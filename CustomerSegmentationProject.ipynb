{
 "cells": [
  {
   "cell_type": "markdown",
   "metadata": {},
   "source": [
    "# Customer Segmentation Project."
   ]
  },
  {
   "cell_type": "markdown",
   "metadata": {},
   "source": [
    "# Case Study"
   ]
  },
  {
   "cell_type": "markdown",
   "metadata": {},
   "source": [
    "It has always been important for businesses to understand customer behaviours in order to ensure that products or services are tailored towards maximum profitability. For this case study, we will refer to a dataset with customer shopping data on customer’s gender, city, customer‘s annual income, credit score, and spending score found here. This data was obtained on several cities in India as will be seen in the dataset. Data visualization will be done (in Python) to make comparisons between the different features of the dataset.  "
   ]
  },
  {
   "cell_type": "markdown",
   "metadata": {},
   "source": [
    "#  1. Defining the Goal of Customer Segmentation"
   ]
  },
  {
   "cell_type": "markdown",
   "metadata": {},
   "source": [
    "Customer Segmentation is the process of division of customer base into several groups of individuals that share a similarity in different ways that are relevant to marketing. Behaviour leads to Customer Segmentation, why Using clustering, companies, Malls, supermarkets and Restaurants can identify segments of customers to target the potential user base. We will divide customers into groups according to common characteristics like gender, city, customer‘s annual income, credit score, and spending score. Through this we get deeper understanding of the customer preferences as well as the requirements for discovering valuable segments that would help us gain maximum profit for the company.\n",
    "secondly we strategize the marketing techniques more efficiently and reduce the risk of investment."
   ]
  },
  {
   "cell_type": "markdown",
   "metadata": {},
   "source": [
    "#  2. Get the Data"
   ]
  },
  {
   "cell_type": "markdown",
   "metadata": {},
   "source": [
    "We need to understand the data set in detail. We develop a brief understanding of the data set of which we will be working with. For example how many features are there in the data set , how many unique labels, How are they distributed or how are the labels distributed."
   ]
  },
  {
   "cell_type": "code",
   "execution_count": null,
   "metadata": {},
   "outputs": [],
   "source": [
    "#We import the libraries and tabular Dataset that we intend to use in developing our model project.\n",
    "import pandas as pd\n",
    "import numpy as np"
   ]
  },
  {
   "cell_type": "code",
   "execution_count": null,
   "metadata": {},
   "outputs": [],
   "source": []
  }
 ],
 "metadata": {
  "kernelspec": {
   "display_name": "Python 3",
   "language": "python",
   "name": "python3"
  },
  "language_info": {
   "codemirror_mode": {
    "name": "ipython",
    "version": 3
   },
   "file_extension": ".py",
   "mimetype": "text/x-python",
   "name": "python",
   "nbconvert_exporter": "python",
   "pygments_lexer": "ipython3",
   "version": "3.7.6"
  }
 },
 "nbformat": 4,
 "nbformat_minor": 4
}
